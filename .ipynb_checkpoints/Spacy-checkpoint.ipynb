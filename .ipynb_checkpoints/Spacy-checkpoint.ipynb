{
 "cells": [
  {
   "cell_type": "code",
   "execution_count": 1,
   "id": "302fef7e",
   "metadata": {},
   "outputs": [
    {
     "name": "stdout",
     "output_type": "stream",
     "text": [
      "Requirement already satisfied: spacy in c:\\users\\rodri\\anaconda3\\lib\\site-packages (3.4.1)\n",
      "Requirement already satisfied: spacy-loggers<2.0.0,>=1.0.0 in c:\\users\\rodri\\anaconda3\\lib\\site-packages (from spacy) (1.0.3)\n",
      "Requirement already satisfied: murmurhash<1.1.0,>=0.28.0 in c:\\users\\rodri\\anaconda3\\lib\\site-packages (from spacy) (1.0.8)\n",
      "Requirement already satisfied: cymem<2.1.0,>=2.0.2 in c:\\users\\rodri\\anaconda3\\lib\\site-packages (from spacy) (2.0.6)\n",
      "Requirement already satisfied: preshed<3.1.0,>=3.0.2 in c:\\users\\rodri\\anaconda3\\lib\\site-packages (from spacy) (3.0.7)\n",
      "Requirement already satisfied: numpy>=1.15.0 in c:\\users\\rodri\\anaconda3\\lib\\site-packages (from spacy) (1.21.5)\n",
      "Requirement already satisfied: pydantic!=1.8,!=1.8.1,<1.10.0,>=1.7.4 in c:\\users\\rodri\\anaconda3\\lib\\site-packages (from spacy) (1.9.2)\n",
      "Requirement already satisfied: setuptools in c:\\users\\rodri\\anaconda3\\lib\\site-packages (from spacy) (61.2.0)\n",
      "Requirement already satisfied: pathy>=0.3.5 in c:\\users\\rodri\\anaconda3\\lib\\site-packages (from spacy) (0.6.2)\n",
      "Requirement already satisfied: catalogue<2.1.0,>=2.0.6 in c:\\users\\rodri\\anaconda3\\lib\\site-packages (from spacy) (2.0.8)\n",
      "Requirement already satisfied: requests<3.0.0,>=2.13.0 in c:\\users\\rodri\\anaconda3\\lib\\site-packages (from spacy) (2.27.1)\n",
      "Requirement already satisfied: wasabi<1.1.0,>=0.9.1 in c:\\users\\rodri\\anaconda3\\lib\\site-packages (from spacy) (0.10.1)\n",
      "Requirement already satisfied: tqdm<5.0.0,>=4.38.0 in c:\\users\\rodri\\anaconda3\\lib\\site-packages (from spacy) (4.64.0)\n",
      "Requirement already satisfied: thinc<8.2.0,>=8.1.0 in c:\\users\\rodri\\anaconda3\\lib\\site-packages (from spacy) (8.1.0)\n",
      "Requirement already satisfied: typer<0.5.0,>=0.3.0 in c:\\users\\rodri\\anaconda3\\lib\\site-packages (from spacy) (0.4.2)\n",
      "Requirement already satisfied: spacy-legacy<3.1.0,>=3.0.9 in c:\\users\\rodri\\anaconda3\\lib\\site-packages (from spacy) (3.0.9)\n",
      "Requirement already satisfied: jinja2 in c:\\users\\rodri\\anaconda3\\lib\\site-packages (from spacy) (2.11.3)\n",
      "Requirement already satisfied: langcodes<4.0.0,>=3.2.0 in c:\\users\\rodri\\anaconda3\\lib\\site-packages (from spacy) (3.3.0)\n",
      "Requirement already satisfied: srsly<3.0.0,>=2.4.3 in c:\\users\\rodri\\anaconda3\\lib\\site-packages (from spacy) (2.4.4)\n",
      "Requirement already satisfied: packaging>=20.0 in c:\\users\\rodri\\anaconda3\\lib\\site-packages (from spacy) (21.3)\n",
      "Requirement already satisfied: pyparsing!=3.0.5,>=2.0.2 in c:\\users\\rodri\\anaconda3\\lib\\site-packages (from packaging>=20.0->spacy) (3.0.4)\n",
      "Collecting smart-open<6.0.0,>=5.2.1\n",
      "  Using cached smart_open-5.2.1-py3-none-any.whl (58 kB)\n",
      "Requirement already satisfied: typing-extensions>=3.7.4.3 in c:\\users\\rodri\\anaconda3\\lib\\site-packages (from pydantic!=1.8,!=1.8.1,<1.10.0,>=1.7.4->spacy) (4.1.1)\n",
      "Requirement already satisfied: urllib3<1.27,>=1.21.1 in c:\\users\\rodri\\anaconda3\\lib\\site-packages (from requests<3.0.0,>=2.13.0->spacy) (1.26.9)\n",
      "Requirement already satisfied: certifi>=2017.4.17 in c:\\users\\rodri\\anaconda3\\lib\\site-packages (from requests<3.0.0,>=2.13.0->spacy) (2022.6.15)\n",
      "Requirement already satisfied: charset-normalizer~=2.0.0 in c:\\users\\rodri\\anaconda3\\lib\\site-packages (from requests<3.0.0,>=2.13.0->spacy) (2.0.4)\n",
      "Requirement already satisfied: idna<4,>=2.5 in c:\\users\\rodri\\anaconda3\\lib\\site-packages (from requests<3.0.0,>=2.13.0->spacy) (2.10)\n",
      "Requirement already satisfied: blis<0.8.0,>=0.7.8 in c:\\users\\rodri\\anaconda3\\lib\\site-packages (from thinc<8.2.0,>=8.1.0->spacy) (0.7.8)\n",
      "Requirement already satisfied: colorama in c:\\users\\rodri\\anaconda3\\lib\\site-packages (from tqdm<5.0.0,>=4.38.0->spacy) (0.4.4)\n",
      "Requirement already satisfied: click<9.0.0,>=7.1.1 in c:\\users\\rodri\\anaconda3\\lib\\site-packages (from typer<0.5.0,>=0.3.0->spacy) (8.1.3)\n",
      "Requirement already satisfied: MarkupSafe>=0.23 in c:\\users\\rodri\\anaconda3\\lib\\site-packages (from jinja2->spacy) (2.0.1)\n",
      "Installing collected packages: smart-open\n",
      "  Attempting uninstall: smart-open\n",
      "    Found existing installation: smart-open 6.1.0\n",
      "    Uninstalling smart-open-6.1.0:\n",
      "      Successfully uninstalled smart-open-6.1.0\n",
      "Successfully installed smart-open-5.2.1\n"
     ]
    }
   ],
   "source": [
    "!pip install spacy"
   ]
  },
  {
   "cell_type": "code",
   "execution_count": 2,
   "id": "dad46998",
   "metadata": {},
   "outputs": [
    {
     "data": {
      "text/plain": [
       "'3.4.1'"
      ]
     },
     "execution_count": 2,
     "metadata": {},
     "output_type": "execute_result"
    }
   ],
   "source": [
    "import spacy\n",
    "spacy.__version__"
   ]
  },
  {
   "cell_type": "code",
   "execution_count": 3,
   "id": "f9cf2ef0",
   "metadata": {},
   "outputs": [
    {
     "name": "stdout",
     "output_type": "stream",
     "text": [
      "\n",
      "[x] No compatible package found for 'pt_core_news_sm'' (spaCy v3.4.1)\n",
      "\n"
     ]
    }
   ],
   "source": [
    "!python -m spacy download pt_core_news_sm'"
   ]
  },
  {
   "cell_type": "code",
   "execution_count": 4,
   "id": "15c9fbb5",
   "metadata": {},
   "outputs": [],
   "source": [
    "dados = spacy.load('pt_core_news_sm')"
   ]
  },
  {
   "cell_type": "code",
   "execution_count": 5,
   "id": "b0cf0c60",
   "metadata": {},
   "outputs": [
    {
     "data": {
      "text/plain": [
       "<spacy.lang.pt.Portuguese at 0x1a0cd682c40>"
      ]
     },
     "execution_count": 5,
     "metadata": {},
     "output_type": "execute_result"
    }
   ],
   "source": [
    "dados"
   ]
  },
  {
   "cell_type": "code",
   "execution_count": 6,
   "id": "4ebf744e",
   "metadata": {},
   "outputs": [],
   "source": [
    "from spacy.lang.pt.examples import sentences "
   ]
  },
  {
   "cell_type": "code",
   "execution_count": 7,
   "id": "ebaf87fe",
   "metadata": {},
   "outputs": [],
   "source": [
    "doc = dados(sentences[2])"
   ]
  },
  {
   "cell_type": "code",
   "execution_count": 8,
   "id": "0cf0250f",
   "metadata": {},
   "outputs": [
    {
     "data": {
      "text/plain": [
       "Londres é a maior cidade do Reino Unido"
      ]
     },
     "execution_count": 8,
     "metadata": {},
     "output_type": "execute_result"
    }
   ],
   "source": [
    "doc"
   ]
  },
  {
   "cell_type": "markdown",
   "id": "15c1cdaa",
   "metadata": {},
   "source": [
    "# Marcação POS"
   ]
  },
  {
   "cell_type": "code",
   "execution_count": 9,
   "id": "003a65bd",
   "metadata": {},
   "outputs": [],
   "source": [
    "documento = dados('Aprendendo processamento de linguagem natural na Treinaweb')"
   ]
  },
  {
   "cell_type": "code",
   "execution_count": 10,
   "id": "99b5092f",
   "metadata": {},
   "outputs": [
    {
     "data": {
      "text/plain": [
       "Aprendendo processamento de linguagem natural na Treinaweb"
      ]
     },
     "execution_count": 10,
     "metadata": {},
     "output_type": "execute_result"
    }
   ],
   "source": [
    "documento"
   ]
  },
  {
   "cell_type": "code",
   "execution_count": 11,
   "id": "8822d1ea",
   "metadata": {},
   "outputs": [
    {
     "name": "stdout",
     "output_type": "stream",
     "text": [
      "Aprendendo VERB\n",
      "processamento NOUN\n",
      "de ADP\n",
      "linguagem NOUN\n",
      "natural ADJ\n",
      "na ADP\n",
      "Treinaweb PROPN\n"
     ]
    }
   ],
   "source": [
    "for token in documento:\n",
    "    print(token.text, token.pos_)"
   ]
  },
  {
   "cell_type": "markdown",
   "id": "fc4d3ad4",
   "metadata": {},
   "source": [
    "# Legenda\n",
    "- Pos: parte da fala\n",
    "- Lemma: palavra raiz\n",
    "- Is_Stop: Se é stopword"
   ]
  },
  {
   "cell_type": "code",
   "execution_count": 12,
   "id": "fbca9cbf",
   "metadata": {},
   "outputs": [
    {
     "name": "stdout",
     "output_type": "stream",
     "text": [
      "Aprendendo VERB aprender False\n",
      "processamento NOUN processamento False\n",
      "de ADP de True\n",
      "linguagem NOUN linguagem False\n",
      "natural ADJ natural False\n",
      "na ADP em o True\n",
      "Treinaweb PROPN Treinaweb False\n"
     ]
    }
   ],
   "source": [
    "for token in documento:\n",
    "    print(token.text, token.pos_, token.lemma_, token.is_stop)"
   ]
  },
  {
   "cell_type": "code",
   "execution_count": 13,
   "id": "56e248b7",
   "metadata": {},
   "outputs": [
    {
     "name": "stdout",
     "output_type": "stream",
     "text": [
      "Treinaweb\n"
     ]
    }
   ],
   "source": [
    "# Detecta entidades\n",
    "for token in documento:\n",
    "    if token.pos_ == 'PROPN':\n",
    "        print(token.text)"
   ]
  },
  {
   "cell_type": "markdown",
   "id": "108d97ab",
   "metadata": {},
   "source": [
    "# Lemmatization x Stemmização"
   ]
  },
  {
   "cell_type": "code",
   "execution_count": 14,
   "id": "d18461df",
   "metadata": {},
   "outputs": [
    {
     "name": "stdout",
     "output_type": "stream",
     "text": [
      "Aprendendo aprender\n",
      "processamento processamento\n",
      "de de\n",
      "linguagem linguagem\n",
      "natural natural\n",
      "na em o\n",
      "Treinaweb Treinaweb\n"
     ]
    }
   ],
   "source": [
    "for token in documento:\n",
    "    print(token.text, token.lemma_)"
   ]
  },
  {
   "cell_type": "code",
   "execution_count": 15,
   "id": "08a300ca",
   "metadata": {},
   "outputs": [],
   "source": [
    "palavras = dados('encontrei encontraram encontrarão encontrariam')"
   ]
  },
  {
   "cell_type": "code",
   "execution_count": 16,
   "id": "15228b80",
   "metadata": {},
   "outputs": [
    {
     "name": "stdout",
     "output_type": "stream",
     "text": [
      "encontrar\n",
      "encontrar\n",
      "encontrar\n",
      "encontrar\n"
     ]
    }
   ],
   "source": [
    "for token in palavras:\n",
    "    print(token.lemma_)"
   ]
  },
  {
   "cell_type": "code",
   "execution_count": 17,
   "id": "fbf71cd0",
   "metadata": {},
   "outputs": [
    {
     "name": "stderr",
     "output_type": "stream",
     "text": [
      "[nltk_data] Downloading package rslp to\n",
      "[nltk_data]     C:\\Users\\rodri\\AppData\\Roaming\\nltk_data...\n",
      "[nltk_data]   Package rslp is already up-to-date!\n"
     ]
    },
    {
     "data": {
      "text/plain": [
       "True"
      ]
     },
     "execution_count": 17,
     "metadata": {},
     "output_type": "execute_result"
    }
   ],
   "source": [
    "import nltk \n",
    "nltk.download('rslp')"
   ]
  },
  {
   "cell_type": "code",
   "execution_count": 18,
   "id": "e4b48742",
   "metadata": {},
   "outputs": [
    {
     "data": {
      "text/plain": [
       "'aprend'"
      ]
     },
     "execution_count": 18,
     "metadata": {},
     "output_type": "execute_result"
    }
   ],
   "source": [
    "stemizacao = nltk.stem.RSLPStemmer()\n",
    "stemizacao.stem('aprendendo')"
   ]
  },
  {
   "cell_type": "code",
   "execution_count": 19,
   "id": "b6d700e0",
   "metadata": {},
   "outputs": [
    {
     "name": "stdout",
     "output_type": "stream",
     "text": [
      "Aprendendo aprender aprend\n",
      "processamento processamento process\n",
      "de de de\n",
      "linguagem linguagem lingu\n",
      "natural natural natur\n",
      "na em o na\n",
      "Treinaweb Treinaweb treinaweb\n"
     ]
    }
   ],
   "source": [
    "for token in documento:\n",
    "    print(token.text, token.lemma_, stemizacao.stem(token.text))"
   ]
  },
  {
   "cell_type": "markdown",
   "id": "04dca270",
   "metadata": {},
   "source": [
    "# Entidades Nomeadas"
   ]
  },
  {
   "cell_type": "code",
   "execution_count": 20,
   "id": "606f35e9",
   "metadata": {},
   "outputs": [
    {
     "data": {
      "text/plain": [
       "Carros autônomos empurram a responsabilidade do seguro para os fabricantes.São Francisco considera banir os robôs de entrega que andam pelas calçadas"
      ]
     },
     "execution_count": 20,
     "metadata": {},
     "output_type": "execute_result"
    }
   ],
   "source": [
    "frase2 = dados(sentences[1])\n",
    "frase2"
   ]
  },
  {
   "cell_type": "code",
   "execution_count": 21,
   "id": "183cffb4",
   "metadata": {},
   "outputs": [],
   "source": [
    "documento1 = dados(frase2)"
   ]
  },
  {
   "cell_type": "code",
   "execution_count": 22,
   "id": "83fbd2cd",
   "metadata": {},
   "outputs": [
    {
     "name": "stdout",
     "output_type": "stream",
     "text": [
      "Carros MISC\n",
      "São Francisco LOC\n"
     ]
    }
   ],
   "source": [
    "for entidade in documento1.ents:\n",
    "    print(entidade.text, entidade.label_)"
   ]
  },
  {
   "cell_type": "code",
   "execution_count": 23,
   "id": "4ba2351d",
   "metadata": {},
   "outputs": [
    {
     "data": {
      "text/plain": [
       "Londres é a maior cidade do Reino Unido"
      ]
     },
     "execution_count": 23,
     "metadata": {},
     "output_type": "execute_result"
    }
   ],
   "source": [
    "frase = dados(sentences[2])\n",
    "frase"
   ]
  },
  {
   "cell_type": "code",
   "execution_count": 24,
   "id": "f0e32529",
   "metadata": {},
   "outputs": [],
   "source": [
    "documento2 = dados(frase)"
   ]
  },
  {
   "cell_type": "code",
   "execution_count": 25,
   "id": "5c447257",
   "metadata": {},
   "outputs": [
    {
     "name": "stdout",
     "output_type": "stream",
     "text": [
      "Londres LOC\n",
      "Reino Unido LOC\n"
     ]
    }
   ],
   "source": [
    "for entidade in documento2.ents:\n",
    "    print(entidade.text, entidade.label_)"
   ]
  },
  {
   "cell_type": "code",
   "execution_count": 26,
   "id": "7a13474e",
   "metadata": {},
   "outputs": [
    {
     "data": {
      "text/html": [
       "<span class=\"tex2jax_ignore\"><div class=\"entities\" style=\"line-height: 2.5; direction: ltr\">\n",
       "<mark class=\"entity\" style=\"background: #ddd; padding: 0.45em 0.6em; margin: 0 0.25em; line-height: 1; border-radius: 0.35em;\">\n",
       "    Carros\n",
       "    <span style=\"font-size: 0.8em; font-weight: bold; line-height: 1; border-radius: 0.35em; vertical-align: middle; margin-left: 0.5rem\">MISC</span>\n",
       "</mark>\n",
       " autônomos empurram a responsabilidade do seguro para os fabricantes.\n",
       "<mark class=\"entity\" style=\"background: #ff9561; padding: 0.45em 0.6em; margin: 0 0.25em; line-height: 1; border-radius: 0.35em;\">\n",
       "    São Francisco\n",
       "    <span style=\"font-size: 0.8em; font-weight: bold; line-height: 1; border-radius: 0.35em; vertical-align: middle; margin-left: 0.5rem\">LOC</span>\n",
       "</mark>\n",
       " considera banir os robôs de entrega que andam pelas calçadas</div></span>"
      ],
      "text/plain": [
       "<IPython.core.display.HTML object>"
      ]
     },
     "metadata": {},
     "output_type": "display_data"
    }
   ],
   "source": [
    "from spacy import displacy\n",
    "displacy.render(documento1, style='ent')"
   ]
  },
  {
   "cell_type": "code",
   "execution_count": 27,
   "id": "3f5170a9",
   "metadata": {},
   "outputs": [
    {
     "data": {
      "text/html": [
       "<span class=\"tex2jax_ignore\"><div class=\"entities\" style=\"line-height: 2.5; direction: ltr\">\n",
       "<mark class=\"entity\" style=\"background: #ff9561; padding: 0.45em 0.6em; margin: 0 0.25em; line-height: 1; border-radius: 0.35em;\">\n",
       "    Londres\n",
       "    <span style=\"font-size: 0.8em; font-weight: bold; line-height: 1; border-radius: 0.35em; vertical-align: middle; margin-left: 0.5rem\">LOC</span>\n",
       "</mark>\n",
       " é a maior cidade do \n",
       "<mark class=\"entity\" style=\"background: #ff9561; padding: 0.45em 0.6em; margin: 0 0.25em; line-height: 1; border-radius: 0.35em;\">\n",
       "    Reino Unido\n",
       "    <span style=\"font-size: 0.8em; font-weight: bold; line-height: 1; border-radius: 0.35em; vertical-align: middle; margin-left: 0.5rem\">LOC</span>\n",
       "</mark>\n",
       "</div></span>"
      ],
      "text/plain": [
       "<IPython.core.display.HTML object>"
      ]
     },
     "metadata": {},
     "output_type": "display_data"
    }
   ],
   "source": [
    "displacy.render(documento2, style='ent')"
   ]
  },
  {
   "cell_type": "markdown",
   "id": "700715c0",
   "metadata": {},
   "source": [
    "# StopWords"
   ]
  },
  {
   "cell_type": "code",
   "execution_count": 28,
   "id": "6730eee7",
   "metadata": {},
   "outputs": [],
   "source": [
    "from spacy.lang.pt.stop_words import STOP_WORDS"
   ]
  },
  {
   "cell_type": "code",
   "execution_count": 29,
   "id": "dafbbb5c",
   "metadata": {},
   "outputs": [
    {
     "name": "stdout",
     "output_type": "stream",
     "text": [
      "{'bom', 'inclusive', 'saber', 'naquele', 'onze', 'pode', 'vais', 'exemplo', 'estado', 'sabe', 'és', 'apoia', 'uns', 'aquelas', 'coisa', 'aos', 'me', 'numa', 'poder', 'somente', 'pelos', 'daquela', 'tuas', 'novo', 'cá', 'sei', 'usa', 'sim', 'vens', 'no', 'alguns', 'aqui', 'depois', 'novos', 'quais', 'vós', 'catorze', 'caminho', 'fará', 'nuns', 'a', 'cento', 'tanta', 'ter', 'desde', 'vezes', 'sexta', 'aí', 'minha', 'suas', 'longe', 'um', 'fazia', 'dá', 'deverá', 'povo', 'dez', 'tentar', 'iniciar', 'dezoito', 'pelo', 'fazer', 'segundo', 'pela', 'sob', 'tive', 'estivestes', 'vários', 'eles', 'com', 'ela', 'embora', 'fora', 'uma', 'contudo', 'sem', 'tu', 'outros', 'valor', 'nesta', 'esse', 'enquanto', 'doze', 'às', 'teus', 'neste', 'aquilo', 'máximo', 'cuja', 'tens', 'ora', 'até', 'segunda', 'tiveram', 'assim', 'vossos', 'próprio', 'sobre', 'ademais', 'parece', 'sou', 'pois', 'foste', 'apoio', 'primeira', 'nenhuma', 'têm', 'ali', 'quero', 'elas', 'muito', 'tipo', 'essas', 'que', 'estou', 'sexto', 'possível', 'quanto', 'num', 'nosso', 'disso', 'pegar', 'pouco', 'toda', 'apontar', 'faz', 'local', 'certeza', 'geral', 'nada', 'você', 'grandes', 'forma', 'próxima', 'somos', 'demais', 'boa', 'ele', 'nova', 'dois', 'deve', 'posso', 'maior', 'lado', 'temos', 'foram', 'estes', 'é', 'onde', 'dezassete', 'todo', 'devem', 'vindo', 'ser', 'debaixo', 'dão', 'quieto', 'tua', 'através', 'e', 'comprida', 'sempre', 'estas', 'acerca', 'tenho', 'estiveram', 'conhecido', 'tendes', 'vêm', 'querem', 'vinte', 'veja', 'dessa', 'quatro', 'estava', 'porquanto', 'fostes', 'estará', 'posição', 'grupo', 'tente', 'fim', 'sete', 'entre', 'tarde', 'além', 'nossas', 'obrigado', 'terceiro', 'usar', 'esta', 'quando', 'quê', 'porém', 'já', 'dezanove', 'o', 'parte', 'minhas', 'oitavo', 'mas', 'então', 'de', 'mais', 'fazes', 'dentro', 'ver', 'nossa', 'algo', 'duas', 'umas', 'agora', 'poderá', 'conhecida', 'muitos', 'fazeis', 'lhe', 'nos', 'das', 'nessa', 'também', 'favor', 'à', 'pôde', 'obrigada', 'esteve', 'tudo', 'relação', 'apenas', 'inicio', 'sétimo', 'mês', 'foi', 'nós', 'teve', 'terceira', 'sistema', 'vos', 'ambas', 'daquele', 'ontem', 'nossos', 'zero', 'vão', 'fazem', 'tentei', 'vem', 'nem', 'só', 'eu', 'isso', 'números', 'fui', 'em', 'conselho', 'ainda', 'direita', 'falta', 'bem', 'menor', 'número', 'ambos', 'ou', 'meio', 'sétima', 'tentaram', 'seus', 'tão', 'qual', 'qualquer', 'vossas', 'nove', 'desta', 'aquele', 'podem', 'vocês', 'nesse', 'cada', 'último', 'se', 'mal', 'outras', 'quinto', 'põem', 'quarta', 'tivemos', 'vosso', 'adeus', 'dizem', 'naquela', 'perto', 'estive', 'algumas', 'grande', 'maioria', 'porquê', 'está', 'na', 'cinco', 'contra', 'dar', 'três', 'tempo', 'tal', 'custa', 'faço', 'sois', 'porque', 'fazemos', 'baixo', 'estás', 'possivelmente', 'meus', 'te', 'seis', 'podia', 'tivestes', 'do', 'vossa', 'tanto', 'nível', 'outra', 'todas', 'diante', 'fez', 'quarto', 'como', 'pouca', 'for', 'oitava', 'menos', 'lugar', 'quer', 'atrás', 'comprido', 'irá', 'quem', 'corrente', 'estão', 'põe', 'teu', 'dizer', 'os', 'essa', 'questão', 'são', 'vinda', 'breve', 'fomos', 'bastante', 'tais', 'aqueles', 'nas', 'cujo', 'após', 'partir', 'quinta', 'primeiro', 'cedo', 'novas', 'quinze', 'este', 'seu', 'talvez', 'ir', 'logo', 'maiorias', 'mil', 'dos', 'para', 'aquela', 'vai', 'estivemos', 'quieta', 'lá', 'vez', 'puderam', 'nunca', 'antes', 'seria', 'tem', 'ao', 'meu', 'dezasseis', 'meses', 'era', 'deste', 'estiveste', 'esses', 'próximo', 'por', 'tiveste', 'área', 'portanto', 'certamente', 'sua', 'pelas', 'eventual', 'ligado', 'desse', 'ponto', 'estar', 'momento', 'oito', 'todos', 'diz', 'final', 'treze', 'des', 'da', 'isto', 'mesmo', 'cima', 'não', 'as', 'pontos'}\n"
     ]
    }
   ],
   "source": [
    "print(STOP_WORDS)"
   ]
  },
  {
   "cell_type": "code",
   "execution_count": 30,
   "id": "95661cbe",
   "metadata": {},
   "outputs": [
    {
     "name": "stdout",
     "output_type": "stream",
     "text": [
      "416\n"
     ]
    }
   ],
   "source": [
    "print(len(STOP_WORDS))"
   ]
  },
  {
   "cell_type": "code",
   "execution_count": 31,
   "id": "4260881a",
   "metadata": {},
   "outputs": [
    {
     "data": {
      "text/plain": [
       "True"
      ]
     },
     "execution_count": 31,
     "metadata": {},
     "output_type": "execute_result"
    }
   ],
   "source": [
    "dados.vocab['ir'].is_stop"
   ]
  },
  {
   "cell_type": "code",
   "execution_count": 32,
   "id": "8003505c",
   "metadata": {},
   "outputs": [
    {
     "data": {
      "text/plain": [
       "False"
      ]
     },
     "execution_count": 32,
     "metadata": {},
     "output_type": "execute_result"
    }
   ],
   "source": [
    "dados.vocab['caminhar'].is_stop"
   ]
  },
  {
   "cell_type": "code",
   "execution_count": 33,
   "id": "7568c6f9",
   "metadata": {},
   "outputs": [
    {
     "data": {
      "text/plain": [
       "Aprendendo processamento de linguagem natural na Treinaweb"
      ]
     },
     "execution_count": 33,
     "metadata": {},
     "output_type": "execute_result"
    }
   ],
   "source": [
    "documento"
   ]
  },
  {
   "cell_type": "code",
   "execution_count": 34,
   "id": "b089bc83",
   "metadata": {},
   "outputs": [
    {
     "name": "stdout",
     "output_type": "stream",
     "text": [
      "Aprendendo\n",
      "processamento\n",
      "linguagem\n",
      "natural\n",
      "Treinaweb\n"
     ]
    }
   ],
   "source": [
    "for token in documento:\n",
    "    if not dados.vocab[token.text].is_stop:\n",
    "        print(token.text)"
   ]
  },
  {
   "cell_type": "markdown",
   "id": "5ae317e3",
   "metadata": {},
   "source": [
    "# Relação entre Palavras"
   ]
  },
  {
   "cell_type": "code",
   "execution_count": 35,
   "id": "477fd0f5",
   "metadata": {},
   "outputs": [],
   "source": [
    "documento = dados('Reserve minha passagem saindo de Belém e chegando em Salvador')"
   ]
  },
  {
   "cell_type": "code",
   "execution_count": 36,
   "id": "491dfd2b",
   "metadata": {},
   "outputs": [
    {
     "data": {
      "text/plain": [
       "(Belém, Salvador)"
      ]
     },
     "execution_count": 36,
     "metadata": {},
     "output_type": "execute_result"
    }
   ],
   "source": [
    "origem = documento[5]\n",
    "destino = documento[9]\n",
    "origem, destino"
   ]
  },
  {
   "cell_type": "code",
   "execution_count": 37,
   "id": "d053f175",
   "metadata": {},
   "outputs": [
    {
     "data": {
      "text/plain": [
       "[saindo, Reserve]"
      ]
     },
     "execution_count": 37,
     "metadata": {},
     "output_type": "execute_result"
    }
   ],
   "source": [
    "list(origem.ancestors)"
   ]
  },
  {
   "cell_type": "code",
   "execution_count": 38,
   "id": "a8e8dc66",
   "metadata": {},
   "outputs": [
    {
     "data": {
      "text/plain": [
       "[chegando, saindo, Reserve]"
      ]
     },
     "execution_count": 38,
     "metadata": {},
     "output_type": "execute_result"
    }
   ],
   "source": [
    "list(destino.ancestors)"
   ]
  },
  {
   "cell_type": "code",
   "execution_count": 39,
   "id": "8ecd5a9e",
   "metadata": {},
   "outputs": [
    {
     "data": {
      "text/html": [
       "<span class=\"tex2jax_ignore\"><svg xmlns=\"http://www.w3.org/2000/svg\" xmlns:xlink=\"http://www.w3.org/1999/xlink\" xml:lang=\"pt\" id=\"16a5f5e4abf740388b3d38b3b5d13f3a-0\" class=\"displacy\" width=\"950\" height=\"272.0\" direction=\"ltr\" style=\"max-width: none; height: 272.0px; color: #000000; background: #ffffff; font-family: Arial; direction: ltr\">\n",
       "<text class=\"displacy-token\" fill=\"currentColor\" text-anchor=\"middle\" y=\"182.0\">\n",
       "    <tspan class=\"displacy-word\" fill=\"currentColor\" x=\"50\">Reserve</tspan>\n",
       "    <tspan class=\"displacy-tag\" dy=\"2em\" fill=\"currentColor\" x=\"50\">VERB</tspan>\n",
       "</text>\n",
       "\n",
       "<text class=\"displacy-token\" fill=\"currentColor\" text-anchor=\"middle\" y=\"182.0\">\n",
       "    <tspan class=\"displacy-word\" fill=\"currentColor\" x=\"140\">minha</tspan>\n",
       "    <tspan class=\"displacy-tag\" dy=\"2em\" fill=\"currentColor\" x=\"140\">DET</tspan>\n",
       "</text>\n",
       "\n",
       "<text class=\"displacy-token\" fill=\"currentColor\" text-anchor=\"middle\" y=\"182.0\">\n",
       "    <tspan class=\"displacy-word\" fill=\"currentColor\" x=\"230\">passagem</tspan>\n",
       "    <tspan class=\"displacy-tag\" dy=\"2em\" fill=\"currentColor\" x=\"230\">NOUN</tspan>\n",
       "</text>\n",
       "\n",
       "<text class=\"displacy-token\" fill=\"currentColor\" text-anchor=\"middle\" y=\"182.0\">\n",
       "    <tspan class=\"displacy-word\" fill=\"currentColor\" x=\"320\">saindo</tspan>\n",
       "    <tspan class=\"displacy-tag\" dy=\"2em\" fill=\"currentColor\" x=\"320\">VERB</tspan>\n",
       "</text>\n",
       "\n",
       "<text class=\"displacy-token\" fill=\"currentColor\" text-anchor=\"middle\" y=\"182.0\">\n",
       "    <tspan class=\"displacy-word\" fill=\"currentColor\" x=\"410\">de</tspan>\n",
       "    <tspan class=\"displacy-tag\" dy=\"2em\" fill=\"currentColor\" x=\"410\">ADP</tspan>\n",
       "</text>\n",
       "\n",
       "<text class=\"displacy-token\" fill=\"currentColor\" text-anchor=\"middle\" y=\"182.0\">\n",
       "    <tspan class=\"displacy-word\" fill=\"currentColor\" x=\"500\">Belém</tspan>\n",
       "    <tspan class=\"displacy-tag\" dy=\"2em\" fill=\"currentColor\" x=\"500\">PROPN</tspan>\n",
       "</text>\n",
       "\n",
       "<text class=\"displacy-token\" fill=\"currentColor\" text-anchor=\"middle\" y=\"182.0\">\n",
       "    <tspan class=\"displacy-word\" fill=\"currentColor\" x=\"590\">e</tspan>\n",
       "    <tspan class=\"displacy-tag\" dy=\"2em\" fill=\"currentColor\" x=\"590\">CCONJ</tspan>\n",
       "</text>\n",
       "\n",
       "<text class=\"displacy-token\" fill=\"currentColor\" text-anchor=\"middle\" y=\"182.0\">\n",
       "    <tspan class=\"displacy-word\" fill=\"currentColor\" x=\"680\">chegando</tspan>\n",
       "    <tspan class=\"displacy-tag\" dy=\"2em\" fill=\"currentColor\" x=\"680\">VERB</tspan>\n",
       "</text>\n",
       "\n",
       "<text class=\"displacy-token\" fill=\"currentColor\" text-anchor=\"middle\" y=\"182.0\">\n",
       "    <tspan class=\"displacy-word\" fill=\"currentColor\" x=\"770\">em</tspan>\n",
       "    <tspan class=\"displacy-tag\" dy=\"2em\" fill=\"currentColor\" x=\"770\">ADP</tspan>\n",
       "</text>\n",
       "\n",
       "<text class=\"displacy-token\" fill=\"currentColor\" text-anchor=\"middle\" y=\"182.0\">\n",
       "    <tspan class=\"displacy-word\" fill=\"currentColor\" x=\"860\">Salvador</tspan>\n",
       "    <tspan class=\"displacy-tag\" dy=\"2em\" fill=\"currentColor\" x=\"860\">PROPN</tspan>\n",
       "</text>\n",
       "\n",
       "<g class=\"displacy-arrow\">\n",
       "    <path class=\"displacy-arc\" id=\"arrow-16a5f5e4abf740388b3d38b3b5d13f3a-0-0\" stroke-width=\"2px\" d=\"M160,137.0 C160,92.0 220.0,92.0 220.0,137.0\" fill=\"none\" stroke=\"currentColor\"/>\n",
       "    <text dy=\"1.25em\" style=\"font-size: 0.8em; letter-spacing: 1px\">\n",
       "        <textPath xlink:href=\"#arrow-16a5f5e4abf740388b3d38b3b5d13f3a-0-0\" class=\"displacy-label\" startOffset=\"50%\" side=\"left\" fill=\"currentColor\" text-anchor=\"middle\">det</textPath>\n",
       "    </text>\n",
       "    <path class=\"displacy-arrowhead\" d=\"M160,139.0 L152,127.0 168,127.0\" fill=\"currentColor\"/>\n",
       "</g>\n",
       "\n",
       "<g class=\"displacy-arrow\">\n",
       "    <path class=\"displacy-arc\" id=\"arrow-16a5f5e4abf740388b3d38b3b5d13f3a-0-1\" stroke-width=\"2px\" d=\"M70,137.0 C70,47.0 225.0,47.0 225.0,137.0\" fill=\"none\" stroke=\"currentColor\"/>\n",
       "    <text dy=\"1.25em\" style=\"font-size: 0.8em; letter-spacing: 1px\">\n",
       "        <textPath xlink:href=\"#arrow-16a5f5e4abf740388b3d38b3b5d13f3a-0-1\" class=\"displacy-label\" startOffset=\"50%\" side=\"left\" fill=\"currentColor\" text-anchor=\"middle\">obj</textPath>\n",
       "    </text>\n",
       "    <path class=\"displacy-arrowhead\" d=\"M225.0,139.0 L233.0,127.0 217.0,127.0\" fill=\"currentColor\"/>\n",
       "</g>\n",
       "\n",
       "<g class=\"displacy-arrow\">\n",
       "    <path class=\"displacy-arc\" id=\"arrow-16a5f5e4abf740388b3d38b3b5d13f3a-0-2\" stroke-width=\"2px\" d=\"M70,137.0 C70,2.0 320.0,2.0 320.0,137.0\" fill=\"none\" stroke=\"currentColor\"/>\n",
       "    <text dy=\"1.25em\" style=\"font-size: 0.8em; letter-spacing: 1px\">\n",
       "        <textPath xlink:href=\"#arrow-16a5f5e4abf740388b3d38b3b5d13f3a-0-2\" class=\"displacy-label\" startOffset=\"50%\" side=\"left\" fill=\"currentColor\" text-anchor=\"middle\">advcl</textPath>\n",
       "    </text>\n",
       "    <path class=\"displacy-arrowhead\" d=\"M320.0,139.0 L328.0,127.0 312.0,127.0\" fill=\"currentColor\"/>\n",
       "</g>\n",
       "\n",
       "<g class=\"displacy-arrow\">\n",
       "    <path class=\"displacy-arc\" id=\"arrow-16a5f5e4abf740388b3d38b3b5d13f3a-0-3\" stroke-width=\"2px\" d=\"M430,137.0 C430,92.0 490.0,92.0 490.0,137.0\" fill=\"none\" stroke=\"currentColor\"/>\n",
       "    <text dy=\"1.25em\" style=\"font-size: 0.8em; letter-spacing: 1px\">\n",
       "        <textPath xlink:href=\"#arrow-16a5f5e4abf740388b3d38b3b5d13f3a-0-3\" class=\"displacy-label\" startOffset=\"50%\" side=\"left\" fill=\"currentColor\" text-anchor=\"middle\">case</textPath>\n",
       "    </text>\n",
       "    <path class=\"displacy-arrowhead\" d=\"M430,139.0 L422,127.0 438,127.0\" fill=\"currentColor\"/>\n",
       "</g>\n",
       "\n",
       "<g class=\"displacy-arrow\">\n",
       "    <path class=\"displacy-arc\" id=\"arrow-16a5f5e4abf740388b3d38b3b5d13f3a-0-4\" stroke-width=\"2px\" d=\"M340,137.0 C340,47.0 495.0,47.0 495.0,137.0\" fill=\"none\" stroke=\"currentColor\"/>\n",
       "    <text dy=\"1.25em\" style=\"font-size: 0.8em; letter-spacing: 1px\">\n",
       "        <textPath xlink:href=\"#arrow-16a5f5e4abf740388b3d38b3b5d13f3a-0-4\" class=\"displacy-label\" startOffset=\"50%\" side=\"left\" fill=\"currentColor\" text-anchor=\"middle\">obj</textPath>\n",
       "    </text>\n",
       "    <path class=\"displacy-arrowhead\" d=\"M495.0,139.0 L503.0,127.0 487.0,127.0\" fill=\"currentColor\"/>\n",
       "</g>\n",
       "\n",
       "<g class=\"displacy-arrow\">\n",
       "    <path class=\"displacy-arc\" id=\"arrow-16a5f5e4abf740388b3d38b3b5d13f3a-0-5\" stroke-width=\"2px\" d=\"M610,137.0 C610,92.0 670.0,92.0 670.0,137.0\" fill=\"none\" stroke=\"currentColor\"/>\n",
       "    <text dy=\"1.25em\" style=\"font-size: 0.8em; letter-spacing: 1px\">\n",
       "        <textPath xlink:href=\"#arrow-16a5f5e4abf740388b3d38b3b5d13f3a-0-5\" class=\"displacy-label\" startOffset=\"50%\" side=\"left\" fill=\"currentColor\" text-anchor=\"middle\">cc</textPath>\n",
       "    </text>\n",
       "    <path class=\"displacy-arrowhead\" d=\"M610,139.0 L602,127.0 618,127.0\" fill=\"currentColor\"/>\n",
       "</g>\n",
       "\n",
       "<g class=\"displacy-arrow\">\n",
       "    <path class=\"displacy-arc\" id=\"arrow-16a5f5e4abf740388b3d38b3b5d13f3a-0-6\" stroke-width=\"2px\" d=\"M340,137.0 C340,2.0 680.0,2.0 680.0,137.0\" fill=\"none\" stroke=\"currentColor\"/>\n",
       "    <text dy=\"1.25em\" style=\"font-size: 0.8em; letter-spacing: 1px\">\n",
       "        <textPath xlink:href=\"#arrow-16a5f5e4abf740388b3d38b3b5d13f3a-0-6\" class=\"displacy-label\" startOffset=\"50%\" side=\"left\" fill=\"currentColor\" text-anchor=\"middle\">conj</textPath>\n",
       "    </text>\n",
       "    <path class=\"displacy-arrowhead\" d=\"M680.0,139.0 L688.0,127.0 672.0,127.0\" fill=\"currentColor\"/>\n",
       "</g>\n",
       "\n",
       "<g class=\"displacy-arrow\">\n",
       "    <path class=\"displacy-arc\" id=\"arrow-16a5f5e4abf740388b3d38b3b5d13f3a-0-7\" stroke-width=\"2px\" d=\"M790,137.0 C790,92.0 850.0,92.0 850.0,137.0\" fill=\"none\" stroke=\"currentColor\"/>\n",
       "    <text dy=\"1.25em\" style=\"font-size: 0.8em; letter-spacing: 1px\">\n",
       "        <textPath xlink:href=\"#arrow-16a5f5e4abf740388b3d38b3b5d13f3a-0-7\" class=\"displacy-label\" startOffset=\"50%\" side=\"left\" fill=\"currentColor\" text-anchor=\"middle\">case</textPath>\n",
       "    </text>\n",
       "    <path class=\"displacy-arrowhead\" d=\"M790,139.0 L782,127.0 798,127.0\" fill=\"currentColor\"/>\n",
       "</g>\n",
       "\n",
       "<g class=\"displacy-arrow\">\n",
       "    <path class=\"displacy-arc\" id=\"arrow-16a5f5e4abf740388b3d38b3b5d13f3a-0-8\" stroke-width=\"2px\" d=\"M700,137.0 C700,47.0 855.0,47.0 855.0,137.0\" fill=\"none\" stroke=\"currentColor\"/>\n",
       "    <text dy=\"1.25em\" style=\"font-size: 0.8em; letter-spacing: 1px\">\n",
       "        <textPath xlink:href=\"#arrow-16a5f5e4abf740388b3d38b3b5d13f3a-0-8\" class=\"displacy-label\" startOffset=\"50%\" side=\"left\" fill=\"currentColor\" text-anchor=\"middle\">obl</textPath>\n",
       "    </text>\n",
       "    <path class=\"displacy-arrowhead\" d=\"M855.0,139.0 L863.0,127.0 847.0,127.0\" fill=\"currentColor\"/>\n",
       "</g>\n",
       "</svg></span>"
      ],
      "text/plain": [
       "<IPython.core.display.HTML object>"
      ]
     },
     "metadata": {},
     "output_type": "display_data"
    }
   ],
   "source": [
    "displacy.render(documento, style='dep', options={'distance':90})"
   ]
  },
  {
   "cell_type": "code",
   "execution_count": null,
   "id": "7d6ef932",
   "metadata": {},
   "outputs": [],
   "source": []
  }
 ],
 "metadata": {
  "kernelspec": {
   "display_name": "Python 3 (ipykernel)",
   "language": "python",
   "name": "python3"
  },
  "language_info": {
   "codemirror_mode": {
    "name": "ipython",
    "version": 3
   },
   "file_extension": ".py",
   "mimetype": "text/x-python",
   "name": "python",
   "nbconvert_exporter": "python",
   "pygments_lexer": "ipython3",
   "version": "3.9.12"
  }
 },
 "nbformat": 4,
 "nbformat_minor": 5
}
